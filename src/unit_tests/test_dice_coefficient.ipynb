{
 "cells": [
  {
   "cell_type": "markdown",
   "metadata": {},
   "source": [
    "## DICE FUNCTION TEST"
   ]
  },
  {
   "cell_type": "code",
   "execution_count": 107,
   "metadata": {},
   "outputs": [],
   "source": [
    "import torch\n",
    "import numpy as np\n",
    "from torchmetrics.functional.classification import dice"
   ]
  },
  {
   "cell_type": "code",
   "execution_count": 108,
   "metadata": {},
   "outputs": [],
   "source": [
    "def dice_coefficient(pred: torch.Tensor, target: torch.Tensor, epsilon: float = 1e-6) -> float:\n",
    "    \"\"\"\n",
    "    Calculate the Dice coefficient between predictions and target.\n",
    "    This version assumes that predictions are probabilities and targets are binary masks.\n",
    "    \"\"\"\n",
    "\n",
    "    if pred.dim() == 4 and pred.shape[1] == 1:  \n",
    "        pred = torch.softmax(pred,dim=1)\n",
    "    else:\n",
    "        pred = torch.sigmoid(pred)\n",
    "    \n",
    "    pred_binary = (pred > 0.5).float()    \n",
    "    pred_binary = pred_binary.contiguous().view(-1)\n",
    "    \n",
    "    target = target.contiguous().view(-1)\n",
    "    \n",
    "    intersection = (pred_binary * target).sum()\n",
    "    return np.round((2. * intersection + epsilon) / (pred_binary.sum() + target.sum() + epsilon),6)"
   ]
  },
  {
   "cell_type": "markdown",
   "metadata": {},
   "source": [
    "## CONCEPT"
   ]
  },
  {
   "cell_type": "markdown",
   "metadata": {},
   "source": [
    "**SAMPLE TARGET**"
   ]
  },
  {
   "cell_type": "code",
   "execution_count": 109,
   "metadata": {},
   "outputs": [
    {
     "name": "stdout",
     "output_type": "stream",
     "text": [
      "torch.Size([1, 4, 4])\n"
     ]
    }
   ],
   "source": [
    "target = torch.LongTensor([\n",
    "    [1,1,1,1],\n",
    "    [1,1,1,1],\n",
    "    [0,0,0,0],\n",
    "    [0,0,0,0]\n",
    "])\n",
    "target = target.unsqueeze(0) # add batch dimension\n",
    "print(target.shape)"
   ]
  },
  {
   "cell_type": "markdown",
   "metadata": {},
   "source": [
    "**TEST 1 - 2 TENSORS ARE IDENTICAL -- EXPECTED DICE VALUE 1**"
   ]
  },
  {
   "cell_type": "code",
   "execution_count": 110,
   "metadata": {},
   "outputs": [
    {
     "name": "stdout",
     "output_type": "stream",
     "text": [
      "tensor(1.)\n",
      "tensor(1.)\n"
     ]
    }
   ],
   "source": [
    "# fully overlap - we expect DICE=1\n",
    "pred = torch.LongTensor([\n",
    "    [1,1,1,1],\n",
    "    [1,1,1,1],\n",
    "    [0,0,0,0],\n",
    "    [0,0,0,0]\n",
    "])\n",
    "pred = pred.unsqueeze(0) \n",
    "dice_score_manual_identical = dice_coefficient(pred, target)\n",
    "print(dice_score_manual_identical)\n",
    "dice_score_lib_identical = dice(pred, target, average='micro')\n",
    "print(dice_score_lib_identical)"
   ]
  },
  {
   "cell_type": "markdown",
   "metadata": {},
   "source": [
    "**TEST 2 - 2 TENSORS ARE COMPLETELY DIFFERENT -- EXPECTED DICE VALUE 0**"
   ]
  },
  {
   "cell_type": "code",
   "execution_count": 111,
   "metadata": {},
   "outputs": [
    {
     "name": "stdout",
     "output_type": "stream",
     "text": [
      "tensor(0.)\n",
      "tensor(0.)\n"
     ]
    }
   ],
   "source": [
    "pred = torch.LongTensor([\n",
    "    [0,0,0,0],\n",
    "    [0,0,0,0],\n",
    "    [1,1,1,1],\n",
    "    [1,1,1,1],\n",
    "])\n",
    "pred = pred.unsqueeze(0) # add batch dimension\n",
    "dice_score_dif_manual = dice_coefficient(pred, target)\n",
    "print(dice_score_dif_manual)\n",
    "\n",
    "dice_score_dif_lib = dice(pred, target, average='micro')\n",
    "print(dice_score_dif_lib)"
   ]
  },
  {
   "cell_type": "markdown",
   "metadata": {},
   "source": [
    "**TEST 4 - 2 TENSORS ARE 50% OVERLAPP -- EXPECTED DICE VALUE 0.5**"
   ]
  },
  {
   "cell_type": "code",
   "execution_count": 112,
   "metadata": {},
   "outputs": [
    {
     "name": "stdout",
     "output_type": "stream",
     "text": [
      "tensor(0.5000)\n",
      "tensor(0.5000)\n"
     ]
    }
   ],
   "source": [
    "pred = torch.LongTensor([\n",
    "    [1,1,0,0],\n",
    "    [1,1,0,0],\n",
    "    [1,1,0,0],\n",
    "    [1,1,0,0]\n",
    "])\n",
    "pred = pred.unsqueeze(0) # add batch dimension\n",
    "dice_score_half_manual = dice_coefficient(pred, target)\n",
    "print(dice_score_half_manual)\n",
    "\n",
    "dice_score_half_lib = dice(pred, target, average='micro')\n",
    "print(dice_score_half_lib)"
   ]
  },
  {
   "cell_type": "markdown",
   "metadata": {},
   "source": [
    "Summary: all tests for the function work correctly for manual implementation and for automated implementation from the library."
   ]
  },
  {
   "cell_type": "markdown",
   "metadata": {},
   "source": [
    "## TEST FUNCTIONS WITHOUT BINARIZATION"
   ]
  },
  {
   "cell_type": "markdown",
   "metadata": {},
   "source": [
    "Check: is the part of code pred_binary = (pred > 0.5).float() necessary in the dice_coeff implementation?\n",
    "\n",
    "Removing: the piece of code in the function and test how it works:"
   ]
  },
  {
   "cell_type": "code",
   "execution_count": 113,
   "metadata": {},
   "outputs": [],
   "source": [
    "def dice_coefficient_changed(pred: torch.Tensor, target: torch.Tensor, epsilon: float = 1e-6) -> float:\n",
    "    \"\"\"\n",
    "    Calculate the Dice coefficient between predictions and target.\n",
    "    This version assumes that predictions are probabilities and targets are binary masks.\n",
    "    \"\"\"\n",
    "\n",
    "    if pred.dim() == 4 and pred.shape[1] == 1:  \n",
    "        pred = torch.softmax(pred,dim=1)\n",
    "    else:\n",
    "        pred = torch.sigmoid(pred)\n",
    "    \n",
    "    #pred_binary = (pred > 0.5).float() \n",
    "    #pred_binary = pred_binary.contiguous().view(-1)\n",
    "    pred_binary = pred.contiguous().view(-1) #changed\n",
    "    target = target.contiguous().view(-1)\n",
    "    \n",
    "    intersection = (pred_binary * target).sum()\n",
    "    return np.round((2. * intersection + epsilon) / (pred_binary.sum() + target.sum() + epsilon),6)"
   ]
  },
  {
   "cell_type": "code",
   "execution_count": 114,
   "metadata": {},
   "outputs": [
    {
     "name": "stdout",
     "output_type": "stream",
     "text": [
      "tensor(1.)\n",
      "tensor(0.)\n",
      "tensor(0.5000)\n",
      "tensor(0.5000)\n"
     ]
    }
   ],
   "source": [
    "# fully overlap - we expect DICE=1\n",
    "pred = torch.LongTensor([\n",
    "    [100,100,100,100],\n",
    "    [100,100,100,100],\n",
    "    [-100,-100,-100,-100],\n",
    "    [-100,-100,-100,-100]\n",
    "])\n",
    "pred = pred.unsqueeze(0) # add batch dimension\n",
    "dice_score1 = dice_coefficient_changed(pred, target)\n",
    "print(dice_score1)\n",
    "# fully not overlap - we expect DICE=0\n",
    "pred = torch.LongTensor([\n",
    "    [-100,-100,-100,-100],\n",
    "    [-100,-100,-100,-100],\n",
    "    [100,100,100,100],\n",
    "    [100,100,100,100],\n",
    "])\n",
    "pred = pred.unsqueeze(0) # add batch dimension\n",
    "dice_score_2= dice_coefficient_changed(pred, target)\n",
    "print(dice_score_2)\n",
    "# half overlap - we expect DICE=0.5\n",
    "pred = torch.LongTensor([\n",
    "    [100,100,-100,-100],\n",
    "    [100,100,-100,-100],\n",
    "    [100,100,-100,-100],\n",
    "    [100,100,-100,-100]\n",
    "])\n",
    "pred = pred.unsqueeze(0) # add batch dimension\n",
    "dice_score3= dice_coefficient_changed(pred, target)\n",
    "print(dice_score3)\n",
    "# random prediction: - we expect DICE=0.5\n",
    "pred = torch.LongTensor([\n",
    "    [0,0,-0,-0],\n",
    "    [0,0,-0,-0],\n",
    "    [0,0,-0,-0],\n",
    "    [0,0,-0,-0]\n",
    "])\n",
    "pred = pred.unsqueeze(0) # add batch dimension\n",
    "dice_score7 = dice_coefficient_changed(pred, target)\n",
    "print(dice_score7)"
   ]
  },
  {
   "cell_type": "markdown",
   "metadata": {},
   "source": [
    "Conclusion: the piece of code for binarisation does not impact the correect result of dice function."
   ]
  },
  {
   "cell_type": "markdown",
   "metadata": {},
   "source": [
    "## TESTING THE DICE FUNCTION ON THE SHAPES EXISITNG IN THE DATASET"
   ]
  },
  {
   "cell_type": "markdown",
   "metadata": {},
   "source": [
    "- Pred mask shape: torch.Size([8, 128, 128])\n",
    "- True mask shape: torch.Size([8, 1, 128, 128])\n"
   ]
  },
  {
   "cell_type": "markdown",
   "metadata": {},
   "source": [
    "**GENERATING PRED_MASK AND TRUE_MASK**"
   ]
  },
  {
   "cell_type": "code",
   "execution_count": 115,
   "metadata": {},
   "outputs": [
    {
     "name": "stdout",
     "output_type": "stream",
     "text": [
      "Pred mask shape: torch.Size([8, 128, 128])\n",
      "True mask shape: torch.Size([8, 1, 128, 128])\n"
     ]
    }
   ],
   "source": [
    "torch.manual_seed(42)\n",
    "pred_mask = torch.rand(8, 128, 128) #value probability float between 0 and 1\n",
    "true_mask = torch.randint(0, 2, (8, 1, 128, 128))  # Values  0 or 1\n",
    "\n",
    "print(\"Pred mask shape:\", pred_mask.shape)\n",
    "print(\"True mask shape:\", true_mask.shape)"
   ]
  },
  {
   "cell_type": "code",
   "execution_count": 116,
   "metadata": {},
   "outputs": [
    {
     "name": "stdout",
     "output_type": "stream",
     "text": [
      "tensor([[[0.8823, 0.9150, 0.3829,  ..., 0.2083, 0.3289, 0.1054],\n",
      "         [0.9192, 0.4008, 0.9302,  ..., 0.2576, 0.3470, 0.0240],\n",
      "         [0.7797, 0.1519, 0.7513,  ..., 0.1474, 0.6872, 0.9231],\n",
      "         ...,\n",
      "         [0.3886, 0.6950, 0.9444,  ..., 0.5623, 0.4582, 0.1418],\n",
      "         [0.2072, 0.2025, 0.8032,  ..., 0.1501, 0.0055, 0.7553],\n",
      "         [0.0428, 0.2748, 0.8039,  ..., 0.6069, 0.1175, 0.9703]],\n",
      "\n",
      "        [[0.7622, 0.7843, 0.0643,  ..., 0.9987, 0.1228, 0.4648],\n",
      "         [0.4646, 0.2497, 0.1435,  ..., 0.1612, 0.7156, 0.9816],\n",
      "         [0.5184, 0.2707, 0.2327,  ..., 0.0707, 0.2499, 0.3952],\n",
      "         ...,\n",
      "         [0.5721, 0.4261, 0.7520,  ..., 0.4272, 0.0380, 0.6681],\n",
      "         [0.5586, 0.1097, 0.3872,  ..., 0.2815, 0.1916, 0.3653],\n",
      "         [0.2675, 0.9510, 0.1335,  ..., 0.1357, 0.1557, 0.9772]],\n",
      "\n",
      "        [[0.5288, 0.0632, 0.6178,  ..., 0.5601, 0.5215, 0.9896],\n",
      "         [0.1072, 0.6026, 0.6029,  ..., 0.3892, 0.7201, 0.8710],\n",
      "         [0.0533, 0.5834, 0.5451,  ..., 0.6317, 0.3324, 0.4065],\n",
      "         ...,\n",
      "         [0.0078, 0.0664, 0.5342,  ..., 0.0529, 0.6540, 0.0082],\n",
      "         [0.6760, 0.7462, 0.2728,  ..., 0.2526, 0.0732, 0.7477],\n",
      "         [0.2500, 0.7742, 0.0267,  ..., 0.3416, 0.2727, 0.4138]],\n",
      "\n",
      "        ...,\n",
      "\n",
      "        [[0.4509, 0.9107, 0.6348,  ..., 0.4957, 0.9209, 0.7033],\n",
      "         [0.6113, 0.3362, 0.6143,  ..., 0.7410, 0.6182, 0.8151],\n",
      "         [0.8823, 0.5168, 0.5567,  ..., 0.3741, 0.6152, 0.6525],\n",
      "         ...,\n",
      "         [0.7853, 0.0592, 0.5247,  ..., 0.0071, 0.4807, 0.2273],\n",
      "         [0.0863, 0.8231, 0.0125,  ..., 0.6936, 0.7979, 0.2501],\n",
      "         [0.6275, 0.9595, 0.5730,  ..., 0.2224, 0.2821, 0.0821]],\n",
      "\n",
      "        [[0.7329, 0.4271, 0.3459,  ..., 0.5443, 0.3074, 0.5397],\n",
      "         [0.9642, 0.6731, 0.4181,  ..., 0.5202, 0.9257, 0.2647],\n",
      "         [0.2696, 0.9635, 0.9563,  ..., 0.8271, 0.3909, 0.3694],\n",
      "         ...,\n",
      "         [0.6838, 0.6646, 0.8298,  ..., 0.3761, 0.7040, 0.1896],\n",
      "         [0.3885, 0.9805, 0.2867,  ..., 0.1530, 0.1457, 0.6829],\n",
      "         [0.6961, 0.3198, 0.2781,  ..., 0.6023, 0.5220, 0.4813]],\n",
      "\n",
      "        [[0.4674, 0.3548, 0.9740,  ..., 0.7685, 0.8220, 0.3069],\n",
      "         [0.1035, 0.9889, 0.6310,  ..., 0.7418, 0.0608, 0.0126],\n",
      "         [0.0997, 0.5111, 0.0973,  ..., 0.5928, 0.7808, 0.9597],\n",
      "         ...,\n",
      "         [0.5235, 0.0074, 0.0723,  ..., 0.5821, 0.2480, 0.4933],\n",
      "         [0.7016, 0.3344, 0.4556,  ..., 0.9073, 0.7170, 0.2387],\n",
      "         [0.6767, 0.2559, 0.2338,  ..., 0.4196, 0.2602, 0.5681]]])\n"
     ]
    }
   ],
   "source": [
    "print(pred_mask)"
   ]
  },
  {
   "cell_type": "code",
   "execution_count": 117,
   "metadata": {},
   "outputs": [
    {
     "name": "stdout",
     "output_type": "stream",
     "text": [
      "tensor([[[[1, 0, 1,  ..., 1, 1, 1],\n",
      "          [0, 1, 0,  ..., 0, 0, 0],\n",
      "          [0, 1, 0,  ..., 0, 0, 1],\n",
      "          ...,\n",
      "          [1, 0, 1,  ..., 1, 0, 0],\n",
      "          [1, 0, 1,  ..., 0, 0, 1],\n",
      "          [1, 1, 0,  ..., 1, 0, 1]]],\n",
      "\n",
      "\n",
      "        [[[1, 1, 0,  ..., 1, 1, 0],\n",
      "          [1, 0, 1,  ..., 0, 0, 1],\n",
      "          [1, 1, 0,  ..., 0, 0, 0],\n",
      "          ...,\n",
      "          [0, 0, 0,  ..., 0, 0, 0],\n",
      "          [1, 1, 1,  ..., 0, 1, 0],\n",
      "          [0, 1, 1,  ..., 0, 0, 1]]],\n",
      "\n",
      "\n",
      "        [[[0, 0, 1,  ..., 0, 0, 0],\n",
      "          [1, 1, 0,  ..., 0, 0, 1],\n",
      "          [0, 0, 1,  ..., 1, 0, 0],\n",
      "          ...,\n",
      "          [0, 1, 0,  ..., 0, 0, 1],\n",
      "          [1, 0, 1,  ..., 1, 1, 1],\n",
      "          [0, 0, 1,  ..., 1, 1, 1]]],\n",
      "\n",
      "\n",
      "        ...,\n",
      "\n",
      "\n",
      "        [[[1, 1, 1,  ..., 1, 1, 0],\n",
      "          [1, 1, 0,  ..., 1, 1, 1],\n",
      "          [1, 1, 1,  ..., 0, 1, 0],\n",
      "          ...,\n",
      "          [0, 1, 0,  ..., 1, 0, 1],\n",
      "          [0, 1, 0,  ..., 1, 0, 1],\n",
      "          [0, 1, 0,  ..., 0, 0, 1]]],\n",
      "\n",
      "\n",
      "        [[[1, 1, 1,  ..., 0, 0, 0],\n",
      "          [0, 1, 1,  ..., 1, 0, 0],\n",
      "          [1, 0, 1,  ..., 1, 1, 0],\n",
      "          ...,\n",
      "          [0, 1, 0,  ..., 0, 0, 1],\n",
      "          [0, 1, 0,  ..., 0, 1, 0],\n",
      "          [0, 0, 0,  ..., 1, 1, 0]]],\n",
      "\n",
      "\n",
      "        [[[1, 0, 0,  ..., 1, 1, 0],\n",
      "          [0, 0, 0,  ..., 0, 1, 0],\n",
      "          [0, 1, 0,  ..., 0, 1, 1],\n",
      "          ...,\n",
      "          [1, 0, 1,  ..., 1, 0, 1],\n",
      "          [1, 0, 1,  ..., 1, 0, 0],\n",
      "          [1, 1, 0,  ..., 0, 1, 1]]]])\n"
     ]
    }
   ],
   "source": [
    "print(true_mask)\n"
   ]
  },
  {
   "cell_type": "code",
   "execution_count": 118,
   "metadata": {},
   "outputs": [
    {
     "name": "stdout",
     "output_type": "stream",
     "text": [
      "tensor(0.6664)\n"
     ]
    }
   ],
   "source": [
    "dice_score4 = dice_coefficient(pred_mask, true_mask)\n",
    "print(dice_score4)"
   ]
  },
  {
   "cell_type": "code",
   "execution_count": 119,
   "metadata": {},
   "outputs": [
    {
     "name": "stdout",
     "output_type": "stream",
     "text": [
      "tensor(0.5533)\n"
     ]
    }
   ],
   "source": [
    "dice_score5 = dice_coefficient_changed(pred_mask, true_mask)\n",
    "print(dice_score5)"
   ]
  },
  {
   "cell_type": "code",
   "execution_count": 120,
   "metadata": {},
   "outputs": [
    {
     "name": "stdout",
     "output_type": "stream",
     "text": [
      "tensor(0.4994)\n"
     ]
    }
   ],
   "source": [
    "dice_score6= dice(pred_mask, true_mask, average='micro')\n",
    "print(dice_score6)"
   ]
  }
 ],
 "metadata": {
  "kernelspec": {
   "display_name": "capstone",
   "language": "python",
   "name": "python3"
  },
  "language_info": {
   "codemirror_mode": {
    "name": "ipython",
    "version": 3
   },
   "file_extension": ".py",
   "mimetype": "text/x-python",
   "name": "python",
   "nbconvert_exporter": "python",
   "pygments_lexer": "ipython3",
   "version": "3.9.13"
  }
 },
 "nbformat": 4,
 "nbformat_minor": 2
}
