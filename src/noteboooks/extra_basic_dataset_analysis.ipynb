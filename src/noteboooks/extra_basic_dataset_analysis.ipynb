{
 "cells": [
  {
   "cell_type": "code",
   "execution_count": 1,
   "metadata": {},
   "outputs": [
    {
     "name": "stderr",
     "output_type": "stream",
     "text": [
      "c:\\Users\\Marta\\miniconda3\\envs\\capstone_5\\Lib\\site-packages\\torchvision\\io\\image.py:13: UserWarning: Failed to load image Python extension: '[WinError 127] Nie można odnaleźć określonej procedury'If you don't plan on using image functionality from `torchvision.io`, you can ignore this warning. Otherwise, there might be something wrong with your environment. Did you have `libjpeg` or `libpng` installed before building `torchvision` from source?\n",
      "  warn(\n"
     ]
    }
   ],
   "source": [
    "import os\n",
    "os.environ['PYTORCH_CUDA_ALLOC_CONF'] = 'expandable_segments:True'\n",
    "import sys\n",
    "project_root = os.path.abspath(os.path.join(os.getcwd(), '../../'))\n",
    "sys.path.append(project_root)\n",
    "import random\n",
    "import numpy as np\n",
    "import matplotlib.pyplot as plt\n",
    "from PIL import Image\n",
    "import torch\n",
    "import torch.nn as nn\n",
    "import torch.nn.functional as F\n",
    "import torch.optim as optim\n",
    "from torch.utils.data import DataLoader, Dataset\n",
    "import torchvision.transforms as transforms\n",
    "import pandas as pd\n",
    "import time\n",
    "from PIL import ImageOps, Image\n",
    "from typing import Tuple, Dict, Callable, Optional, Union, List\n",
    "from datetime import datetime\n",
    "import json\n",
    "import cv2\n",
    "from src.utils.data_localisation import is_kaggle,is_notebook\n",
    "from src.utils.seed import set_seed\n",
    "from src.utils.data_preparation import pad_image_if_needed, get_random_crop_coords, crop_image, crop_image_and_masks"
   ]
  },
  {
   "cell_type": "code",
   "execution_count": 2,
   "metadata": {},
   "outputs": [],
   "source": [
    "class CFG:\n",
    "    experiment_id           = 'LG36'\n",
    "    model_name              = 'UNet'\n",
    "    train_bs                = 8\n",
    "    valid_bs                = 8\n",
    "    crop_size               = (64 , 64)\n",
    "    num_crops               = 1\n",
    "    epochs                  = 2\n",
    "    lr                      = 0.0001\n",
    "    data_train_test_split   = 0.9\n",
    "    data_train_val_split    = 0.8\n",
    "    device                  = torch.device(\"cuda:0\" if torch.cuda.is_available() else \"cpu\")\n",
    "    mask_train              = False\n",
    "    cancerous_train         = True\n",
    "    hard_to_classify_train  = True\n",
    "    inflammatory_train      = True\n",
    "    stroma_train            = True\n",
    "    \n",
    "enabled_masks = {\n",
    "    \"cancerous\": CFG.cancerous_train,\n",
    "    \"hard_to_classify\": CFG.hard_to_classify_train,\n",
    "    \"inflammatory\": CFG.inflammatory_train,\n",
    "    \"stroma\": CFG.stroma_train\n",
    "}\n",
    "class_names = [name for name, enabled in enabled_masks.items() if enabled]\n",
    "num_masks = sum([CFG.mask_train, CFG.cancerous_train, CFG.hard_to_classify_train, CFG.inflammatory_train, CFG.stroma_train])"
   ]
  },
  {
   "cell_type": "code",
   "execution_count": 3,
   "metadata": {},
   "outputs": [],
   "source": [
    "if is_kaggle():\n",
    "    dataset_path = '/kaggle/input/'\n",
    "    reports_dir = '/kaggle/working/'\n",
    "    models_dir = '/kaggle/working/'\n",
    "else:\n",
    "    base_dir = os.path.dirname(os.getcwd())\n",
    "\n",
    "    if is_notebook():\n",
    "        dataset_path = os.path.join(base_dir, 'data')        \n",
    "        reports_dir = os.path.join(base_dir, 'reports')\n",
    "        models_dir = os.path.join(base_dir, 'models')\n",
    "        \n",
    "    else:\n",
    "        dataset_path = os.path.join(base_dir, 'capstrone_group5','src', 'data')\n",
    "        reports_dir = os.path.join(base_dir, 'capstone_group5', 'src', 'reports')\n",
    "        models_dir = os.path.join(base_dir, 'capstone_group5', 'src', 'models')\n",
    "\n",
    "os.makedirs(reports_dir, exist_ok=True)\n",
    "models_dir = os.path.join(base_dir, 'capstone_group5', 'src', 'models') if not is_notebook() else os.path.join(base_dir, 'models')"
   ]
  },
  {
   "cell_type": "code",
   "execution_count": 4,
   "metadata": {},
   "outputs": [
    {
     "name": "stdout",
     "output_type": "stream",
     "text": [
      "CUDA is not available. Check your PyTorch installation and GPU drivers.\n"
     ]
    }
   ],
   "source": [
    "if torch.cuda.is_available():\n",
    "    print(f\"Current device index: {torch.cuda.current_device()}\")\n",
    "    print(f\"Device name: {torch.cuda.get_device_name(torch.cuda.current_device())}\")\n",
    "else:\n",
    "    print(\"CUDA is not available. Check your PyTorch installation and GPU drivers.\")\n",
    "allocated_memory = torch.cuda.memory_allocated()\n",
    "GPU_used = round(allocated_memory / 1024**3, 2)"
   ]
  },
  {
   "cell_type": "code",
   "execution_count": 5,
   "metadata": {},
   "outputs": [
    {
     "name": "stdout",
     "output_type": "stream",
     "text": [
      "Number of active masks is 4.\n",
      "Dataset path: c:\\Users\\Marta\\Desktop\\capstone_group5\\src\\data\n",
      "Dataset path: c:\\Users\\Marta\\Desktop\\capstone_group5\\src\\reports\n",
      "Dataset path: c:\\Users\\Marta\\Desktop\\capstone_group5\\src\\models\n",
      "CUDA available: False\n",
      "\n",
      "Number of GPUs: 0\n",
      "GPU Memory Allocated: 0.00 GB\n"
     ]
    }
   ],
   "source": [
    "print(f\"Number of active masks is {num_masks}.\")\n",
    "print(f\"Dataset path: {dataset_path}\")\n",
    "print(f\"Dataset path: {reports_dir}\")\n",
    "print(f\"Dataset path: {models_dir}\")\n",
    "print(f\"CUDA available: {torch.cuda.is_available()}\\n\")\n",
    "print(f\"Number of GPUs: {torch.cuda.device_count()}\")\n",
    "print(f\"GPU Memory Allocated: {allocated_memory / 1024**3:.2f} GB\")"
   ]
  },
  {
   "cell_type": "code",
   "execution_count": 6,
   "metadata": {},
   "outputs": [],
   "source": [
    "transform = transforms.Compose([\n",
    "    transforms.ToTensor(),\n",
    "])\n",
    "\n",
    "mask_config = {\n",
    "    \"cancerous\": CFG.cancerous_train,\n",
    "    \"hard_to_classify\": CFG.hard_to_classify_train,\n",
    "    \"inflammatory\": CFG.inflammatory_train,\n",
    "    \"stroma\": CFG.stroma_train,\n",
    "    \"mask\": CFG.mask_train\n",
    "}"
   ]
  },
  {
   "cell_type": "code",
   "execution_count": 7,
   "metadata": {},
   "outputs": [],
   "source": [
    "class HistopathologyDataset(Dataset):\n",
    "    def __init__(self, root_dir:str, mask_config:Dict[str,bool], transform:Optional[Callable[[Image.Image], Image.Image]]=False):\n",
    "        \"\"\"\n",
    "        Args:\n",
    "            root_dir (str): Katalog z obrazami i maskami.\n",
    "            mask_config (dict): Słownik konfiguracji masek, gdzie klucze to nazwy masek, a wartości to True/False.\n",
    "            transform (callable, optional): Transformacje do zastosowania na obrazie i maskach.\n",
    "        \"\"\"\n",
    "        self.root_dir = root_dir\n",
    "        self.transform = transform\n",
    "        self.mask_config = mask_config\n",
    "        self.crop_size = CFG.crop_size\n",
    "        self.num_crops = CFG.num_crops\n",
    "        \n",
    "        self.image_paths = []\n",
    "        self.mask_paths = {key: [] for key in mask_config.keys() if mask_config[key]}\n",
    "\n",
    "        for subdir, dirs, files in os.walk(root_dir):\n",
    "            for file in files:\n",
    "                if file.endswith(\"ROI.png\"):\n",
    "                    image_path = os.path.join(subdir, file)\n",
    "                    mask_base_path = image_path.replace(\"ROI.png\", \"\")\n",
    "                    \n",
    "                    for mask_type in self.mask_config.keys():\n",
    "                        if self.mask_config[mask_type]:\n",
    "                            mask_path = mask_base_path + mask_type.upper() + \".png\"\n",
    "                            self.mask_paths[mask_type].append(mask_path)\n",
    "                    \n",
    "                    self.image_paths.append(image_path)\n",
    "\n",
    "    def __len__(self) -> int:\n",
    "        \n",
    "        return len(self.image_paths) * self.num_crops\n",
    "\n",
    "    def __getitem__(self, idx: int) -> Tuple[Image.Image, Dict[str, Image.Image]]:\n",
    "        \n",
    "        image_idx = idx // self.num_crops\n",
    "        crop_idx = idx % self.num_crops\n",
    "\n",
    "        image = Image.open(self.image_paths[image_idx]).convert(\"RGB\")\n",
    "            \n",
    "        masks = {}\n",
    "        for mask_type in self.mask_config.keys():\n",
    "            if self.mask_config.get(mask_type, False):\n",
    "                mask_path = self.mask_paths[mask_type][image_idx]\n",
    "                mask = Image.open(mask_path).convert(\"L\")\n",
    "                masks[mask_type] = mask\n",
    "        \n",
    "        crop_coords = get_random_crop_coords(image.size, self.crop_size)\n",
    "        cropped_image, cropped_masks = crop_image_and_masks(image, masks, crop_coords)\n",
    "    \n",
    "        if self.transform:                \n",
    "            cropped_image = self.transform(cropped_image)\n",
    "        \n",
    "            mask_transforms = transforms.Compose([transforms.ToTensor()])\n",
    "            cropped_masks = {\n",
    "                key: (mask_transforms(mask) > 0).float() for key, mask in cropped_masks.items()\n",
    "            }\n",
    "          \n",
    "            cropped_masks = dict(sorted(cropped_masks.items()))\n",
    "        \n",
    "        return cropped_image, cropped_masks\n"
   ]
  },
  {
   "cell_type": "code",
   "execution_count": 8,
   "metadata": {},
   "outputs": [],
   "source": [
    "set_seed(42)"
   ]
  },
  {
   "cell_type": "code",
   "execution_count": 9,
   "metadata": {},
   "outputs": [],
   "source": [
    "### train vs test\n",
    "dataset = HistopathologyDataset(root_dir=dataset_path, mask_config=mask_config, transform=transform)\n",
    "train_val_size = int(CFG.data_train_test_split* len(dataset))\n",
    "test_size = len(dataset) - train_val_size\n",
    "trainval_dataset, test_dataset = torch.utils.data.random_split(dataset, [train_val_size, test_size])\n",
    "\n",
    "train_loader = DataLoader(trainval_dataset, batch_size=CFG.train_bs, shuffle=True)\n",
    "test_loader = DataLoader(test_dataset, batch_size=CFG.valid_bs, shuffle=False)\n",
    "\n",
    "## train vs val\n",
    "train_size = int(CFG.data_train_val_split* len(trainval_dataset))\n",
    "val_size = len(trainval_dataset) - train_size\n",
    "train_dataset, val_dataset = torch.utils.data.random_split(trainval_dataset, [train_size, val_size])\n",
    "train_loader = DataLoader(train_dataset, batch_size=CFG.train_bs, shuffle=True)\n",
    "val_loader = DataLoader(val_dataset, batch_size=CFG.valid_bs, shuffle=False)"
   ]
  },
  {
   "cell_type": "code",
   "execution_count": 10,
   "metadata": {},
   "outputs": [
    {
     "name": "stdout",
     "output_type": "stream",
     "text": [
      "Dataset path is: c:\\Users\\Marta\\Desktop\\capstone_group5\\src\\data\n",
      "Number of elements in the dataset: 673\n",
      "========== TRENING VS. TEST ==========\n",
      "Number of elements in dataset train: 484\n",
      "Number of elements in dataset val: 121\n",
      "Number of elements in dataset test: 68\n",
      "Percentage split (train vs. test) of the dataset is : 90.0%.\n",
      "Percentage split (train vs. val) of the dataset is : 80.0%.\n",
      "========== MISSING DATA CHECK ==========\n",
      "Cancerous samples: 673.\n",
      "Hard to classify samples: 673.\n",
      "Inflammatory samples: 673.\n",
      "Stroma samples: 673.\n"
     ]
    }
   ],
   "source": [
    "print(f\"Dataset path is: {dataset_path}\")\n",
    "print(f\"Number of elements in the dataset: {len(dataset)}\")\n",
    "print(10*\"=\",\"TRENING VS. TEST\", 10*\"=\")\n",
    "print(f\"Number of elements in dataset train: {train_size}\")\n",
    "print(f\"Number of elements in dataset val: {val_size}\")\n",
    "print(f\"Number of elements in dataset test: {test_size}\")\n",
    "print(f\"Percentage split (train vs. test) of the dataset is : {CFG.data_train_test_split*100}%.\")\n",
    "print(f\"Percentage split (train vs. val) of the dataset is : {CFG.data_train_val_split*100}%.\")\n",
    "print(10*\"=\",\"MISSING DATA CHECK\", 10*\"=\")\n",
    "\n",
    "mask_types = {\n",
    "    \"Cancerous\": {\"cancerous\": True},\n",
    "    \"Hard to classify\": {\"hard_to_classify\": True},\n",
    "    \"Inflammatory\": {\"inflammatory\": True},\n",
    "    \"Stroma\": {\"stroma\": True},\n",
    "}\n",
    "\n",
    "for mask_name, mask_config in mask_types.items():\n",
    "    sample_count = len(HistopathologyDataset(root_dir=dataset_path, mask_config=mask_config, transform=transform))\n",
    "    print(f\"{mask_name} samples: {sample_count}.\")"
   ]
  },
  {
   "cell_type": "code",
   "execution_count": 11,
   "metadata": {},
   "outputs": [],
   "source": [
    "def split_dataset(dataset, split_ratio, batch_size, shuffle=True):\n",
    "    split_size = int(split_ratio * len(dataset))\n",
    "    remainder_size = len(dataset) - split_size\n",
    "    split_dataset, remainder_dataset = torch.utils.data.random_split(dataset, [split_size, remainder_size])\n",
    "    split_loader = DataLoader(split_dataset, batch_size=batch_size, shuffle=shuffle)\n",
    "    remainder_loader = DataLoader(remainder_dataset, batch_size=batch_size, shuffle=False)\n",
    "    return split_loader, remainder_loader, split_size, remainder_size\n",
    "\n",
    "# Full dataset\n",
    "dataset = HistopathologyDataset(root_dir=dataset_path, mask_config=mask_config, transform=transform)\n",
    "\n",
    "# Train vs Test Split\n",
    "trainval_loader, test_loader, train_val_size, test_size = split_dataset(dataset, CFG.data_train_test_split, CFG.valid_bs)\n",
    "\n",
    "# Train vs Val Split (on the train/validation portion from the previous split)\n",
    "train_loader, val_loader, train_size, val_size = split_dataset(trainval_loader.dataset, CFG.data_train_val_split, CFG.train_bs)\n"
   ]
  },
  {
   "cell_type": "markdown",
   "metadata": {},
   "source": [
    " REPRESENTATION OF EMPTY PICTURES IN EACH CLASS"
   ]
  },
  {
   "cell_type": "code",
   "execution_count": 12,
   "metadata": {},
   "outputs": [
    {
     "data": {
      "image/png": "[encoded data removed]",
      "text/plain": [
       "<Figure size 1000x500 with 1 Axes>"
      ]
     },
     "metadata": {},
     "output_type": "display_data"
    },
    {
     "name": "stdout",
     "output_type": "stream",
     "text": [
      "Class name: CANCEROUS,   Number of non empty images: 672 out of 675\n",
      "Class name: INFLAMMATORY,   Number of non empty images: 580 out of 675\n",
      "Class name: HARD_TO_CLASSIFY,   Number of non empty images: 503 out of 675\n",
      "Class name: STROMA,   Number of non empty images: 21 out of 675\n"
     ]
    }
   ],
   "source": [
    "# Classes to analyse\n",
    "classes = [\"CANCEROUS\", \"INFLAMMATORY\", \"HARD_TO_CLASSIFY\", \"STROMA\"]\n",
    "\n",
    "# Dictionary for saving number of non empty images\n",
    "non_empty_images = {class_name: 0 for class_name in classes}\n",
    "\n",
    "# Going through dirs and subdirs\n",
    "for root, dirs, files in os.walk(dataset_path):\n",
    "    for file in files:\n",
    "        if file.endswith(\".png\"):\n",
    "            for class_name in classes:\n",
    "                if file.endswith(f\"{class_name}.png\"):\n",
    "                    image_path = os.path.join(root, file)\n",
    "                    image = cv2.imread(image_path, cv2.IMREAD_GRAYSCALE)\n",
    "                    \n",
    "                    # Convert image to binary\n",
    "                    binary_image = (image > 0).astype(np.uint8)\n",
    "                    \n",
    "                    # Check if image has at least one pixel=1\n",
    "                    if np.any(binary_image == 1):\n",
    "                        non_empty_images[class_name] += 1\n",
    "\n",
    "# Plotting\n",
    "plt.figure(figsize=(10, 5))\n",
    "plt.bar(non_empty_images.keys(), non_empty_images.values(), color=['cornflowerblue', 'slateblue', 'orange', 'red'])\n",
    "plt.xlabel('Class name')\n",
    "plt.ylabel('Number of non empty images')\n",
    "plt.title('Number of non empty images in each class')\n",
    "plt.show()\n",
    "\n",
    "for key, value in non_empty_images.items():\n",
    "    print(f'Class name: {key},   Number of non empty images: {value} out of 675')"
   ]
  },
  {
   "cell_type": "code",
   "execution_count": 13,
   "metadata": {},
   "outputs": [
    {
     "name": "stdout",
     "output_type": "stream",
     "text": [
      "Imbalance Ratio for dataset including STROMA class: 32.0\n",
      "Imbalance Ratio for dataset after excluding STROMA class: 1.34\n"
     ]
    }
   ],
   "source": [
    "IR_with_stroma_class = non_empty_images['CANCEROUS']/non_empty_images['STROMA']\n",
    "IR_without_stroma_class = non_empty_images['CANCEROUS']/non_empty_images['HARD_TO_CLASSIFY']\n",
    "print(f'Imbalance Ratio for dataset including STROMA class: {IR_with_stroma_class}' )\n",
    "print(f'Imbalance Ratio for dataset after excluding STROMA class: {IR_without_stroma_class:.2f}')"
   ]
  },
  {
   "cell_type": "markdown",
   "metadata": {},
   "source": [
    "CONCLUSION:\n",
    "- Only 21 out of 675 images representing STROMA class is non empty. \n",
    "- Including images from STROMA class dataset is highly imbalanced. \n",
    "- After excluding images representing STROMA class from analysis Imbalance Ratio for the dataset dropped from 32 to 1.34."
   ]
  }
 ],
 "metadata": {
  "kernelspec": {
   "display_name": "capstone",
   "language": "python",
   "name": "python3"
  },
  "language_info": {
   "codemirror_mode": {
    "name": "ipython",
    "version": 3
   },
   "file_extension": ".py",
   "mimetype": "text/x-python",
   "name": "python",
   "nbconvert_exporter": "python",
   "pygments_lexer": "ipython3",
   "version": "3.11.7"
  }
 },
 "nbformat": 4,
 "nbformat_minor": 2
}
